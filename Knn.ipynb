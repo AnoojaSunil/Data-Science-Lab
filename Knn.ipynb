{
  "nbformat": 4,
  "nbformat_minor": 0,
  "metadata": {
    "colab": {
      "name": "Knn.ipynb",
      "provenance": []
    },
    "kernelspec": {
      "name": "python3",
      "display_name": "Python 3"
    },
    "language_info": {
      "name": "python"
    }
  },
  "cells": [
    {
      "cell_type": "code",
      "execution_count": 2,
      "metadata": {
        "id": "bRyk6FuvFdKs"
      },
      "outputs": [],
      "source": [
        "from sklearn.neighbors import KNeighborsClassifier\n",
        "from sklearn.model_selection import train_test_split"
      ]
    },
    {
      "cell_type": "code",
      "source": [
        "from sklearn.datasets import load_digits\n",
        "a=load_digits()\n",
        "X=a.data\n",
        "y=a.target\n",
        "X_train,X_test,y_train,y_test=train_test_split(X,y,test_size=0.30)"
      ],
      "metadata": {
        "id": "xw4NZP0-Fp3N"
      },
      "execution_count": 3,
      "outputs": []
    },
    {
      "cell_type": "code",
      "source": [
        "knn=KNeighborsClassifier(n_neighbors=6)\n",
        "knn.fit(X_train,y_train)"
      ],
      "metadata": {
        "colab": {
          "base_uri": "https://localhost:8080/"
        },
        "id": "IwHeYqBOFqjj",
        "outputId": "5a779d41-d0b0-42b0-c91e-8ad16b66a144"
      },
      "execution_count": 4,
      "outputs": [
        {
          "output_type": "execute_result",
          "data": {
            "text/plain": [
              "KNeighborsClassifier(n_neighbors=6)"
            ]
          },
          "metadata": {},
          "execution_count": 4
        }
      ]
    },
    {
      "cell_type": "code",
      "source": [
        "p=(knn.predict(X_test))\n",
        "print(p)"
      ],
      "metadata": {
        "colab": {
          "base_uri": "https://localhost:8080/"
        },
        "id": "HKp4H9IOFtCK",
        "outputId": "5d424014-fc9d-47bf-8971-71233690c840"
      },
      "execution_count": 5,
      "outputs": [
        {
          "output_type": "stream",
          "name": "stdout",
          "text": [
            "[0 6 2 0 2 3 2 8 0 9 7 9 1 8 8 5 9 0 4 9 8 2 5 3 6 5 0 8 2 3 4 1 0 7 4 9 6\n",
            " 7 1 1 9 1 9 5 8 4 4 7 4 6 6 1 8 3 2 5 9 4 4 6 6 6 6 4 2 3 5 7 6 2 7 0 0 6\n",
            " 2 7 8 0 2 1 1 5 6 3 2 0 5 1 3 1 7 8 6 8 2 7 5 2 7 3 1 2 4 8 0 6 3 4 2 5 9\n",
            " 0 8 8 1 5 6 5 4 2 8 3 7 4 7 3 4 0 4 9 9 6 5 2 4 1 9 1 1 3 8 1 2 2 3 9 6 7\n",
            " 9 5 9 0 0 6 3 7 0 5 3 5 0 0 8 4 7 1 0 5 8 5 3 2 6 2 7 1 3 8 8 7 9 1 4 6 7\n",
            " 6 2 9 9 6 9 1 6 5 4 1 2 3 5 2 7 3 1 9 0 5 4 4 0 0 1 1 8 3 3 4 9 1 8 0 5 7\n",
            " 5 3 5 2 0 9 2 9 2 3 0 5 8 1 4 7 3 9 2 6 9 7 9 6 5 8 0 8 3 1 6 5 4 1 3 4 9\n",
            " 5 2 7 6 4 3 2 6 7 8 8 4 6 5 0 6 1 8 4 7 2 8 1 2 2 3 0 6 4 6 6 8 3 8 1 5 7\n",
            " 6 3 9 6 9 7 5 8 4 0 8 4 8 0 4 2 8 6 7 0 5 8 2 3 6 8 9 6 8 1 9 0 4 9 5 8 2\n",
            " 1 1 1 4 8 7 8 9 3 8 9 2 5 9 1 6 2 0 2 9 0 7 2 2 0 1 7 7 6 1 4 3 1 9 4 7 3\n",
            " 4 7 2 5 3 7 7 1 1 2 2 5 6 3 3 0 4 7 0 2 1 7 5 3 6 0 0 7 9 6 8 2 6 2 2 9 1\n",
            " 2 7 2 4 2 3 0 6 7 5 4 9 2 1 1 5 7 5 3 7 8 4 7 7 7 8 0 9 1 0 4 9 1 4 9 4 7\n",
            " 1 4 3 1 1 3 4 5 5 1 1 9 4 4 8 6 0 6 1 8 1 7 5 0 3 4 0 0 2 8 6 8 4 5 0 3 3\n",
            " 7 1 0 7 6 8 0 5 5 8 4 8 4 3 6 7 6 4 5 0 0 3 1 4 5 7 0 5 3 7 3 9 1 9 4 6 5\n",
            " 8 0 9 3 8 8 1 6 0 4 8 5 0 9 5 3 7 0 3 9 9 8]\n"
          ]
        }
      ]
    },
    {
      "cell_type": "code",
      "source": [
        "from sklearn.metrics import classification_report,confusion_matrix,accuracy_score\n",
        "print(confusion_matrix(y_test,p))\n",
        "print(classification_report(y_test,p))\n",
        "print(accuracy_score(y_test,p))"
      ],
      "metadata": {
        "colab": {
          "base_uri": "https://localhost:8080/"
        },
        "id": "fdJIquNyFvx1",
        "outputId": "f41f658c-912c-402c-a03e-ad04c684e862"
      },
      "execution_count": 6,
      "outputs": [
        {
          "output_type": "stream",
          "name": "stdout",
          "text": [
            "[[56  0  0  0  0  0  0  0  0  0]\n",
            " [ 0 53  0  0  0  0  0  0  0  0]\n",
            " [ 0  0 53  0  0  0  0  0  0  0]\n",
            " [ 0  0  0 51  0  0  0  0  1  0]\n",
            " [ 0  0  0  0 55  0  0  0  0  0]\n",
            " [ 0  0  0  0  0 51  0  0  0  1]\n",
            " [ 0  1  0  0  0  0 53  0  0  0]\n",
            " [ 0  0  0  0  0  0  0 54  0  0]\n",
            " [ 0  3  0  1  0  0  0  0 54  0]\n",
            " [ 0  1  0  0  1  1  0  0  1 49]]\n",
            "              precision    recall  f1-score   support\n",
            "\n",
            "           0       1.00      1.00      1.00        56\n",
            "           1       0.91      1.00      0.95        53\n",
            "           2       1.00      1.00      1.00        53\n",
            "           3       0.98      0.98      0.98        52\n",
            "           4       0.98      1.00      0.99        55\n",
            "           5       0.98      0.98      0.98        52\n",
            "           6       1.00      0.98      0.99        54\n",
            "           7       1.00      1.00      1.00        54\n",
            "           8       0.96      0.93      0.95        58\n",
            "           9       0.98      0.92      0.95        53\n",
            "\n",
            "    accuracy                           0.98       540\n",
            "   macro avg       0.98      0.98      0.98       540\n",
            "weighted avg       0.98      0.98      0.98       540\n",
            "\n",
            "0.9796296296296296\n"
          ]
        }
      ]
    },
    {
      "cell_type": "code",
      "source": [
        "print(knn.predict(X_test))\n",
        "print(knn.score(X_test,y_test))"
      ],
      "metadata": {
        "colab": {
          "base_uri": "https://localhost:8080/"
        },
        "id": "WDqhdGQYFzfF",
        "outputId": "8a82e8e2-c56c-4ec3-e4a6-21b0b0daedfc"
      },
      "execution_count": 7,
      "outputs": [
        {
          "output_type": "stream",
          "name": "stdout",
          "text": [
            "[0 6 2 0 2 3 2 8 0 9 7 9 1 8 8 5 9 0 4 9 8 2 5 3 6 5 0 8 2 3 4 1 0 7 4 9 6\n",
            " 7 1 1 9 1 9 5 8 4 4 7 4 6 6 1 8 3 2 5 9 4 4 6 6 6 6 4 2 3 5 7 6 2 7 0 0 6\n",
            " 2 7 8 0 2 1 1 5 6 3 2 0 5 1 3 1 7 8 6 8 2 7 5 2 7 3 1 2 4 8 0 6 3 4 2 5 9\n",
            " 0 8 8 1 5 6 5 4 2 8 3 7 4 7 3 4 0 4 9 9 6 5 2 4 1 9 1 1 3 8 1 2 2 3 9 6 7\n",
            " 9 5 9 0 0 6 3 7 0 5 3 5 0 0 8 4 7 1 0 5 8 5 3 2 6 2 7 1 3 8 8 7 9 1 4 6 7\n",
            " 6 2 9 9 6 9 1 6 5 4 1 2 3 5 2 7 3 1 9 0 5 4 4 0 0 1 1 8 3 3 4 9 1 8 0 5 7\n",
            " 5 3 5 2 0 9 2 9 2 3 0 5 8 1 4 7 3 9 2 6 9 7 9 6 5 8 0 8 3 1 6 5 4 1 3 4 9\n",
            " 5 2 7 6 4 3 2 6 7 8 8 4 6 5 0 6 1 8 4 7 2 8 1 2 2 3 0 6 4 6 6 8 3 8 1 5 7\n",
            " 6 3 9 6 9 7 5 8 4 0 8 4 8 0 4 2 8 6 7 0 5 8 2 3 6 8 9 6 8 1 9 0 4 9 5 8 2\n",
            " 1 1 1 4 8 7 8 9 3 8 9 2 5 9 1 6 2 0 2 9 0 7 2 2 0 1 7 7 6 1 4 3 1 9 4 7 3\n",
            " 4 7 2 5 3 7 7 1 1 2 2 5 6 3 3 0 4 7 0 2 1 7 5 3 6 0 0 7 9 6 8 2 6 2 2 9 1\n",
            " 2 7 2 4 2 3 0 6 7 5 4 9 2 1 1 5 7 5 3 7 8 4 7 7 7 8 0 9 1 0 4 9 1 4 9 4 7\n",
            " 1 4 3 1 1 3 4 5 5 1 1 9 4 4 8 6 0 6 1 8 1 7 5 0 3 4 0 0 2 8 6 8 4 5 0 3 3\n",
            " 7 1 0 7 6 8 0 5 5 8 4 8 4 3 6 7 6 4 5 0 0 3 1 4 5 7 0 5 3 7 3 9 1 9 4 6 5\n",
            " 8 0 9 3 8 8 1 6 0 4 8 5 0 9 5 3 7 0 3 9 9 8]\n",
            "0.9796296296296296\n"
          ]
        }
      ]
    },
    {
      "cell_type": "code",
      "source": [
        "\n",
        "#import pandas as pd\n",
        "import numpy as np\n",
        "#import os\n",
        "import matplotlib.pyplot as plt\n",
        "#import seaborn as sns\n",
        "neighbors = np.arange(1, 9)\n",
        "train_accuracy = np.empty(len(neighbors))\n",
        "test_accuracy = np.empty(len(neighbors))\n",
        " \n",
        "# Loop over K values\n",
        "for i, k in enumerate(neighbors):\n",
        "    knn = KNeighborsClassifier(n_neighbors=k)\n",
        "    knn.fit(X_train, y_train)\n",
        "     \n",
        "    # Compute training and test data accuracy\n",
        "    train_accuracy[i] = knn.score(X_train, y_train)\n",
        "    test_accuracy[i] = knn.score(X_test, y_test)\n",
        " \n",
        "# Generate plot\n",
        "plt.plot(neighbors, test_accuracy, label = 'Testing dataset Accuracy')\n",
        "plt.plot(neighbors, train_accuracy, label = 'Training dataset Accuracy')\n",
        " \n",
        "plt.legend()\n",
        "plt.xlabel('n_neighbors')\n",
        "plt.ylabel('Accuracy')\n",
        "plt.show()"
      ],
      "metadata": {
        "colab": {
          "base_uri": "https://localhost:8080/",
          "height": 280
        },
        "id": "dWx6hQW3F3RS",
        "outputId": "a4c2bffd-1372-4c80-aa8b-f18006d768dc"
      },
      "execution_count": 8,
      "outputs": [
        {
          "output_type": "display_data",
          "data": {
            "image/png": "[encoded data removed]",
            "text/plain": [
              "<Figure size 432x288 with 1 Axes>"
            ]
          },
          "metadata": {
            "needs_background": "light"
          }
        }
      ]
    }
  ]
}